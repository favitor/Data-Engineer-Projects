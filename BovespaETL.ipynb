{
 "cells": [
  {
   "cell_type": "code",
   "execution_count": 15,
   "metadata": {},
   "outputs": [],
   "source": [
    "import pandas as pd"
   ]
  },
  {
   "cell_type": "code",
   "execution_count": 31,
   "metadata": {},
   "outputs": [],
   "source": [
    "def read_files(path, name_file, year_date, type_file):\n",
    "    \n",
    "    _file = f'{path}{name_file}{year_date}.{type_file}'\n",
    "\n",
    "    colspecs = [(2, 10),\n",
    "               (10, 12),\n",
    "               (12, 24),\n",
    "               (27, 39),\n",
    "               (56, 69),\n",
    "               (69, 82),\n",
    "               (82, 95),\n",
    "               (108, 121),\n",
    "               (152, 170),\n",
    "               (170, 188)\n",
    "    ]\n",
    "\n",
    "\n",
    "    names = ['data_pregao', 'codbdi', 'sigla_acao', 'nome_acao', 'preco_abertura', 'preco_maximo', 'preco_minimo','preco_fechamento', 'qtd_negocios', 'volume_negocios']\n",
    "    \n",
    "    df = pd.read_fwf(_file, colspecs = colspecs, names = names, skiprows = 1)\n",
    "    \n",
    "    return df"
   ]
  },
  {
   "cell_type": "code",
   "execution_count": 29,
   "metadata": {},
   "outputs": [],
   "source": [
    "#Filtrar ações\n",
    "\n",
    "def filter_stocks(df):\n",
    "    \n",
    "    df = df[df['codbdi'] == 2]\n",
    "    df = df.drop(['codbdi'], 1)\n",
    "    \n",
    "    return df\n"
   ]
  },
  {
   "cell_type": "code",
   "execution_count": 25,
   "metadata": {},
   "outputs": [],
   "source": [
    "#Ajuste campo data\n",
    "\n",
    "def parse_date(df):\n",
    "    \n",
    "    df['data_pregao'] = pd.to_datetime(df['data_pregao'], format = '%Y%m%d')\n",
    "    \n",
    "    return df"
   ]
  },
  {
   "cell_type": "code",
   "execution_count": 26,
   "metadata": {},
   "outputs": [],
   "source": [
    "#Ajuste campos numericos\n",
    "\n",
    "def parse_values(df):\n",
    "    \n",
    "    df['preco_abertura'] = (df['preco_abertura'] /100).astype(float)\n",
    "    df['preco_maximo'] = (df['preco_maximo'] /100).astype(float)\n",
    "    df['preco_minimo'] = (df['preco_minimo'] /100).astype(float)\n",
    "    df['preco_fechamento'] = (df['preco_fechamento'] /100).astype(float)\n",
    "    \n",
    "    return df"
   ]
  },
  {
   "cell_type": "code",
   "execution_count": 27,
   "metadata": {},
   "outputs": [],
   "source": [
    "#Juntando os arquivos\n",
    "\n",
    "def concat_files(path, name_file, year_date, type_file, final_file):\n",
    "   \n",
    "        \n",
    "    for i,y in enumerate(year_date):\n",
    "        df = read_files(path, name_file, y, type_file)\n",
    "        df = filter_stocks(df)\n",
    "        df = parse_date(df)\n",
    "        df = parse_values(df)\n",
    "        \n",
    "        if i ==0:\n",
    "            df_final = df\n",
    "        else:\n",
    "            df_final = pd.concat([df_final,df])\n",
    "    \n",
    "    df_final.to_csv(f'{path}//{final_file}', index=False)  "
   ]
  },
  {
   "cell_type": "code",
   "execution_count": 32,
   "metadata": {},
   "outputs": [
    {
     "name": "stderr",
     "output_type": "stream",
     "text": [
      "<ipython-input-29-efc2c2538eed>:6: FutureWarning: In a future version of pandas all arguments of DataFrame.drop except for the argument 'labels' will be keyword-only.\n",
      "  df = df.drop(['codbdi'], 1)\n",
      "<ipython-input-29-efc2c2538eed>:6: FutureWarning: In a future version of pandas all arguments of DataFrame.drop except for the argument 'labels' will be keyword-only.\n",
      "  df = df.drop(['codbdi'], 1)\n"
     ]
    }
   ],
   "source": [
    "year_date = ['2019', '2020']\n",
    "path = f'path'\n",
    "name_file = 'COTAHIST_A'\n",
    "type_file = 'txt'\n",
    "final_file = 'all_bovespa.csv'\n",
    "concat_files( path, name_file, year_date, type_file, final_file)"
   ]
  },
  {
   "cell_type": "code",
   "execution_count": null,
   "metadata": {},
   "outputs": [],
   "source": []
  }
 ],
 "metadata": {
  "kernelspec": {
   "display_name": "Python 3",
   "language": "python",
   "name": "python3"
  },
  "language_info": {
   "codemirror_mode": {
    "name": "ipython",
    "version": 3
   },
   "file_extension": ".py",
   "mimetype": "text/x-python",
   "name": "python",
   "nbconvert_exporter": "python",
   "pygments_lexer": "ipython3",
   "version": "3.8.5"
  }
 },
 "nbformat": 4,
 "nbformat_minor": 4
}
